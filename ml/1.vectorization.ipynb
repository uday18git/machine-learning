{
 "cells": [
  {
   "cell_type": "code",
   "execution_count": 1,
   "id": "27bb32ad",
   "metadata": {},
   "outputs": [
    {
     "name": "stdout",
     "output_type": "stream",
     "text": [
      "[1 2 3 4]\n"
     ]
    }
   ],
   "source": [
    "import numpy as np\n",
    "a = np.array([1,2,3,4])\n",
    "print(a)"
   ]
  },
  {
   "cell_type": "code",
   "execution_count": 2,
   "id": "ef29251a",
   "metadata": {},
   "outputs": [
    {
     "name": "stdout",
     "output_type": "stream",
     "text": [
      "0.30106019973754883\n",
      "2500760.0764503265\n",
      "3.8536148071289062\n",
      "2500760.0764499954\n"
     ]
    }
   ],
   "source": [
    "import time\n",
    "a = np.random.rand(10000000)\n",
    "b = np.random.rand(10000000)\n",
    "t1 = time.time()\n",
    "c = np.dot(a,b)\n",
    "t2 = time.time()\n",
    "print(t2-t1)\n",
    "print(c)\n",
    "c=0\n",
    "t1 = time.time()\n",
    "for i in range(10000000):\n",
    "    c += a[i]*b[i]\n",
    "t2 = time.time()\n",
    "print(t2-t1)\n",
    "print(c)\n",
    "\n"
   ]
  },
  {
   "cell_type": "code",
   "execution_count": 3,
   "id": "621b29f5",
   "metadata": {},
   "outputs": [
    {
     "ename": "ValueError",
     "evalue": "operands could not be broadcast together with shapes (3,3) (2,1) ",
     "output_type": "error",
     "traceback": [
      "\u001b[1;31m---------------------------------------------------------------------------\u001b[0m",
      "\u001b[1;31mValueError\u001b[0m                                Traceback (most recent call last)",
      "Input \u001b[1;32mIn [3]\u001b[0m, in \u001b[0;36m<cell line: 5>\u001b[1;34m()\u001b[0m\n\u001b[0;32m      1\u001b[0m a\u001b[38;5;241m=\u001b[39mnp\u001b[38;5;241m.\u001b[39mrandom\u001b[38;5;241m.\u001b[39mrandn(\u001b[38;5;241m3\u001b[39m,\u001b[38;5;241m3\u001b[39m) \u001b[38;5;66;03m# a.shape = (3, 3)a.shape=(3,3)\u001b[39;00m\n\u001b[0;32m      3\u001b[0m b\u001b[38;5;241m=\u001b[39mnp\u001b[38;5;241m.\u001b[39mrandom\u001b[38;5;241m.\u001b[39mrandn(\u001b[38;5;241m2\u001b[39m,\u001b[38;5;241m1\u001b[39m) \u001b[38;5;66;03m# b.shape = (2, 1)b.shape=(2,1)\u001b[39;00m\n\u001b[1;32m----> 5\u001b[0m c \u001b[38;5;241m=\u001b[39m \u001b[43ma\u001b[49m\u001b[43m \u001b[49m\u001b[38;5;241;43m+\u001b[39;49m\u001b[43m \u001b[49m\u001b[43mb\u001b[49m\n\u001b[0;32m      6\u001b[0m \u001b[38;5;28mprint\u001b[39m(c\u001b[38;5;241m.\u001b[39mshape)\n",
      "\u001b[1;31mValueError\u001b[0m: operands could not be broadcast together with shapes (3,3) (2,1) "
     ]
    }
   ],
   "source": [
    "a=np.random.randn(3,3) # a.shape = (3, 3)a.shape=(3,3)\n",
    "\n",
    "b=np.random.randn(2,1) # b.shape = (2, 1)b.shape=(2,1)\n",
    "\n",
    "c = a + b\n",
    "print(c.shape)"
   ]
  },
  {
   "cell_type": "code",
   "execution_count": 4,
   "id": "d47fc68c",
   "metadata": {},
   "outputs": [
    {
     "name": "stdout",
     "output_type": "stream",
     "text": [
      "20000\n",
      "0.0\n",
      "20000\n",
      "0.0\n"
     ]
    }
   ],
   "source": [
    "x = 100\n",
    "y = 200\n",
    "t1 = time.time()\n",
    "z = np.multiply(x,y)\n",
    "t2 = time.time()\n",
    "print(z)\n",
    "c = t2-t1\n",
    "print(c)\n",
    "t1 = time.time()\n",
    "z = x*y\n",
    "t2 = time.time()\n",
    "print(z)\n",
    "c = t2-t1\n",
    "print(c)\n",
    "\n",
    "\n"
   ]
  }
 ],
 "metadata": {
  "kernelspec": {
   "display_name": "Python 3 (ipykernel)",
   "language": "python",
   "name": "python3"
  },
  "language_info": {
   "codemirror_mode": {
    "name": "ipython",
    "version": 3
   },
   "file_extension": ".py",
   "mimetype": "text/x-python",
   "name": "python",
   "nbconvert_exporter": "python",
   "pygments_lexer": "ipython3",
   "version": "3.9.12"
  }
 },
 "nbformat": 4,
 "nbformat_minor": 5
}
