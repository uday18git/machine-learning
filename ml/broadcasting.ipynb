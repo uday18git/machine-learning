{
 "cells": [
  {
   "cell_type": "code",
   "execution_count": 2,
   "id": "9287929c",
   "metadata": {},
   "outputs": [
    {
     "name": "stdout",
     "output_type": "stream",
     "text": [
      "[[ 56.    0.    4.4  68. ]\n",
      " [  1.2 104.   52.    8. ]\n",
      " [  1.8 135.   99.    0.9]]\n"
     ]
    }
   ],
   "source": [
    "import numpy as np\n",
    "A=np.array([[56.0,0.0,4.4,68.0],\n",
    "           [1.2,104.0,52.0,8.0],\n",
    "           [1.8,135.0,99.0,0.9]])\n",
    "print(A)\n"
   ]
  },
  {
   "cell_type": "code",
   "execution_count": 3,
   "id": "0cf91769",
   "metadata": {},
   "outputs": [
    {
     "name": "stdout",
     "output_type": "stream",
     "text": [
      "[ 59.  239.  155.4  76.9]\n"
     ]
    }
   ],
   "source": [
    "cal = A.sum(axis=0)\n",
    "#axis=0 means vertical addtion and axis =1 means horizontal addition \n",
    "print(cal)"
   ]
  },
  {
   "cell_type": "code",
   "execution_count": 5,
   "id": "2d573404",
   "metadata": {},
   "outputs": [
    {
     "name": "stdout",
     "output_type": "stream",
     "text": [
      "[[94.91525424  0.          2.83140283 88.42652796]\n",
      " [ 2.03389831 43.51464435 33.46203346 10.40312094]\n",
      " [ 3.05084746 56.48535565 63.70656371  1.17035111]]\n"
     ]
    }
   ],
   "source": [
    "percentage = 100*A/cal\n",
    "#reshape can be used to make the matrix to wateva size u want\n",
    "#here we are dividing a 3 by 4 matrix with a 1 by 4  matrix this is knwn as broadcasting\n",
    "print(percentage)"
   ]
  },
  {
   "cell_type": "code",
   "execution_count": 12,
   "id": "515b6063",
   "metadata": {},
   "outputs": [
    {
     "name": "stdout",
     "output_type": "stream",
     "text": [
      "[0.41491782 0.95793196 0.46548744 0.64479319]\n",
      "(4,)\n",
      "[[0.69275597]\n",
      " [0.63467461]\n",
      " [0.82447196]\n",
      " [0.42008366]]\n",
      "(4, 1)\n"
     ]
    }
   ],
   "source": [
    "#tips to bug free\n",
    "#do not use rank 1 arrays\n",
    "A=np.random.rand(4)\n",
    "print(A)\n",
    "print(A.shape)\n",
    "#it has a shape (4,), which is weird and it does not behave as a column or a row vector\n",
    "# so instead use \n"
   ]
  },
  {
   "cell_type": "code",
   "execution_count": 13,
   "id": "286f492b",
   "metadata": {},
   "outputs": [
    {
     "name": "stdout",
     "output_type": "stream",
     "text": [
      "[[0.65637183]\n",
      " [0.85099061]\n",
      " [0.71172441]\n",
      " [0.54678922]]\n",
      "(4, 1)\n",
      "[[0.65637183 0.85099061 0.71172441 0.54678922]]\n"
     ]
    }
   ],
   "source": [
    "B=np.random.rand(4,1)\n",
    "print(B)\n",
    "print(B.shape)\n",
    "print(B.T)\n",
    "# whereas A transpose wont give "
   ]
  }
 ],
 "metadata": {
  "kernelspec": {
   "display_name": "Python 3 (ipykernel)",
   "language": "python",
   "name": "python3"
  },
  "language_info": {
   "codemirror_mode": {
    "name": "ipython",
    "version": 3
   },
   "file_extension": ".py",
   "mimetype": "text/x-python",
   "name": "python",
   "nbconvert_exporter": "python",
   "pygments_lexer": "ipython3",
   "version": "3.9.12"
  }
 },
 "nbformat": 4,
 "nbformat_minor": 5
}
